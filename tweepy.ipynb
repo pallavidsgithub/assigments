{
  "nbformat": 4,
  "nbformat_minor": 0,
  "metadata": {
    "colab": {
      "name": "Untitled2.ipynb",
      "provenance": []
    },
    "kernelspec": {
      "name": "python3",
      "display_name": "Python 3"
    },
    "language_info": {
      "name": "python"
    }
  },
  "cells": [
    {
      "cell_type": "code",
      "execution_count": 1,
      "metadata": {
        "colab": {
          "base_uri": "https://localhost:8080/"
        },
        "id": "BTJvE-htZdei",
        "outputId": "2e070ad2-bcfd-49ac-da01-cba4d85a6d1e"
      },
      "outputs": [
        {
          "output_type": "stream",
          "name": "stdout",
          "text": [
            "🤣🤣 https://t.co/LOutrUPYOZ\n",
            "Can’t wait to see you all…. 18th May 🧿✈️ https://t.co/6aBkk8CMIC\n",
            "I am still spell bound by the visuals brother @KicchaSudeep Happy to present the Hindi version of #VikrantRona the… https://t.co/QISKIKXhwq\n",
            "memories ❤️🧿… #Throwback \n",
            ".\n",
            ".\n",
            ".\n",
            "\n",
            "@JourneyLabel \n",
            "@TheLeelaHotels \n",
            "\n",
            "#TheLeelaGoa #TheLeela #MyLeelaGoa #LeelaMoments… https://t.co/XxjmWBSUTE\n",
            "I wanna know please 👻 https://t.co/N06KIBBErx\n",
            "When🤩 https://t.co/P0EYPqyg2z\n",
            "Yes………. Guess guesss…… https://t.co/h7qTO6sOTD\n",
            "Shooting commences for my new film …. https://t.co/wEQmCmayRD\n",
            "Wishing team #Dhaakad the very best #KanganaRanaut  \n",
            "@rampalarjun #SohelMaklai\n",
            "https://t.co/zqjgHNzPfe\n",
            "Sending my heartfelt condolences to Ayush and his entire family on the loss of his grandfather Shri Sukhram Ji toda… https://t.co/cAghrfSSUZ\n",
            "Happy to launch the trailer of #MajorTheFilm. This looks outstanding. All the best to the team.\n",
            "\n",
            "#MajorTrailer\n",
            "-… https://t.co/YszWSqld5u\n",
            "What do you see? https://t.co/OACl3PVnxw\n",
            "Unconditional love &amp; acceptance.\n",
            "Happy Mother’s Day! https://t.co/ILa7kUESP4\n",
            "My Village needs #NOFILTER https://t.co/jjU6yg34Qv\n",
            "Visited My ancestral temple Of  Goddess Durga ❤️🙏🏼….. sending you blessings https://t.co/A0gNvLGyZR\n",
            "Is eid ka swagat karein, ek nayi khushboo ke sath. On popular demand presenting 1965 Oud.\n",
            "A https://t.co/q6ImMN9JHQ… https://t.co/bEzdLlscLn\n",
            "Congratulations @HimeshMelodies #AmritaKak @Ahmedshabbir20 #haiderkhan #shamiraah on #ORanjhana \n",
            "It’s a beautiful t… https://t.co/49OQXZXERA\n",
            "🥕 https://t.co/lgxVtNOoU0\n",
            "Peace out ✌🏼 https://t.co/fTLFjCyCKq\n"
          ]
        }
      ],
      "source": [
        "import tweepy\n",
        "auth = tweepy.OAuthHandler(\"jwc6IYlv3HEfIzcRhu4K7GUT1\", \"AWD0d3aRKt3HHfAPe3oV8xnq2MIvL1zFlWX0Sa0Xm1g6hmjdZX\")\n",
        "auth.set_access_token(\"1335153296365875201-KGvNr9iJNqjITaz0lBL2STQfnMhqnT\", \"hpUawKvoOgKcDNzZ1ToDFrs4wbBWoFJveOintgGzrUx7e\")\n",
        "api = tweepy.API(auth)\n",
        "tweets = api.home_timeline()\n",
        "for tweet in tweets:\n",
        "    print(tweet.text)"
      ]
    }
  ]
}